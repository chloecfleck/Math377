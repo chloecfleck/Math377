{
 "cells": [
  {
   "cell_type": "markdown",
   "metadata": {},
   "source": [
    "# Lab 2: Regression\n",
    "\n",
    "Welcome to Lab 2 of Data 8.3x!\n",
    "\n",
    "Today we will get some hands-on practice with linear regression. You can find more information about this topic in\n",
    "[section 15.2](https://www.inferentialthinking.com/chapters/15/2/Regression_Line)."
   ]
  },
  {
   "cell_type": "code",
   "execution_count": 1,
   "metadata": {},
   "outputs": [],
   "source": [
    "# Run this cell, but please don't change it.\n",
    "\n",
    "# These lines import the Numpy and Datascience modules.\n",
    "import numpy as np\n",
    "from datascience import *\n",
    "\n",
    "# These lines do some fancy plotting magic.\n",
    "import matplotlib\n",
    "%matplotlib inline\n",
    "import matplotlib.pyplot as plots\n",
    "plots.style.use('fivethirtyeight')\n",
    "import warnings\n",
    "warnings.simplefilter('ignore', FutureWarning)\n",
    "warnings.simplefilter('ignore', UserWarning)\n",
    "\n",
    "# These lines load the tests.\n",
    "from gofer.ok import check"
   ]
  },
  {
   "cell_type": "markdown",
   "metadata": {},
   "source": [
    "## 1. How Faithful is Old Faithful? Revisited\n",
    "\n",
    "Let's revisit a question from lab 1. Last lab, we investigated Old Faithful, a geyser in Yellowstone National Park in the central United States. It's famous for erupting on a fairly regular schedule.\n",
    "\n",
    "To recap, some of Old Faithful's eruptions last longer than others. Today, we will use the same dataset on eruption durations and waiting times to see if we can make predict the wait time from the eruption duration using linear regression.\n",
    "\n",
    "The dataset has one row for each observed eruption.  It includes the following columns:\n",
    "- **duration**: Eruption duration, in minutes\n",
    "- **wait**: Time between this eruption and the next, also in minutes\n",
    "\n",
    "Run the next cell to load the dataset."
   ]
  },
  {
   "cell_type": "code",
   "execution_count": 2,
   "metadata": {},
   "outputs": [
    {
     "data": {
      "text/html": [
       "<table border=\"1\" class=\"dataframe\">\n",
       "    <thead>\n",
       "        <tr>\n",
       "            <th>duration</th> <th>wait</th>\n",
       "        </tr>\n",
       "    </thead>\n",
       "    <tbody>\n",
       "        <tr>\n",
       "            <td>3.6     </td> <td>79  </td>\n",
       "        </tr>\n",
       "    </tbody>\n",
       "        <tr>\n",
       "            <td>1.8     </td> <td>54  </td>\n",
       "        </tr>\n",
       "    </tbody>\n",
       "        <tr>\n",
       "            <td>3.333   </td> <td>74  </td>\n",
       "        </tr>\n",
       "    </tbody>\n",
       "        <tr>\n",
       "            <td>2.283   </td> <td>62  </td>\n",
       "        </tr>\n",
       "    </tbody>\n",
       "        <tr>\n",
       "            <td>4.533   </td> <td>85  </td>\n",
       "        </tr>\n",
       "    </tbody>\n",
       "        <tr>\n",
       "            <td>2.883   </td> <td>55  </td>\n",
       "        </tr>\n",
       "    </tbody>\n",
       "        <tr>\n",
       "            <td>4.7     </td> <td>88  </td>\n",
       "        </tr>\n",
       "    </tbody>\n",
       "        <tr>\n",
       "            <td>3.6     </td> <td>85  </td>\n",
       "        </tr>\n",
       "    </tbody>\n",
       "        <tr>\n",
       "            <td>1.95    </td> <td>51  </td>\n",
       "        </tr>\n",
       "    </tbody>\n",
       "        <tr>\n",
       "            <td>4.35    </td> <td>85  </td>\n",
       "        </tr>\n",
       "    </tbody>\n",
       "</table>\n",
       "<p>... (262 rows omitted)</p>"
      ],
      "text/plain": [
       "duration | wait\n",
       "3.6      | 79\n",
       "1.8      | 54\n",
       "3.333    | 74\n",
       "2.283    | 62\n",
       "4.533    | 85\n",
       "2.883    | 55\n",
       "4.7      | 88\n",
       "3.6      | 85\n",
       "1.95     | 51\n",
       "4.35     | 85\n",
       "... (262 rows omitted)"
      ]
     },
     "execution_count": 2,
     "metadata": {},
     "output_type": "execute_result"
    }
   ],
   "source": [
    "faithful = Table.read_table(\"faithful.csv\")\n",
    "faithful"
   ]
  },
  {
   "cell_type": "markdown",
   "metadata": {},
   "source": [
    "Remember from last lab that we concluded eruption time and waiting time are positively correlated. The table below called `faithful_standard` contains the eruption durations and waiting times in standard units."
   ]
  },
  {
   "cell_type": "code",
   "execution_count": 3,
   "metadata": {},
   "outputs": [
    {
     "data": {
      "text/html": [
       "<table border=\"1\" class=\"dataframe\">\n",
       "    <thead>\n",
       "        <tr>\n",
       "            <th>duration (standard units)</th> <th>wait (standard units)</th>\n",
       "        </tr>\n",
       "    </thead>\n",
       "    <tbody>\n",
       "        <tr>\n",
       "            <td>0.0984989                </td> <td>0.597123             </td>\n",
       "        </tr>\n",
       "    </tbody>\n",
       "        <tr>\n",
       "            <td>-1.48146                 </td> <td>-1.24518             </td>\n",
       "        </tr>\n",
       "    </tbody>\n",
       "        <tr>\n",
       "            <td>-0.135861                </td> <td>0.228663             </td>\n",
       "        </tr>\n",
       "    </tbody>\n",
       "        <tr>\n",
       "            <td>-1.0575                  </td> <td>-0.655644            </td>\n",
       "        </tr>\n",
       "    </tbody>\n",
       "        <tr>\n",
       "            <td>0.917443                 </td> <td>1.03928              </td>\n",
       "        </tr>\n",
       "    </tbody>\n",
       "        <tr>\n",
       "            <td>-0.530851                </td> <td>-1.17149             </td>\n",
       "        </tr>\n",
       "    </tbody>\n",
       "        <tr>\n",
       "            <td>1.06403                  </td> <td>1.26035              </td>\n",
       "        </tr>\n",
       "    </tbody>\n",
       "        <tr>\n",
       "            <td>0.0984989                </td> <td>1.03928              </td>\n",
       "        </tr>\n",
       "    </tbody>\n",
       "        <tr>\n",
       "            <td>-1.3498                  </td> <td>-1.46626             </td>\n",
       "        </tr>\n",
       "    </tbody>\n",
       "        <tr>\n",
       "            <td>0.756814                 </td> <td>1.03928              </td>\n",
       "        </tr>\n",
       "    </tbody>\n",
       "</table>\n",
       "<p>... (262 rows omitted)</p>"
      ],
      "text/plain": [
       "duration (standard units) | wait (standard units)\n",
       "0.0984989                 | 0.597123\n",
       "-1.48146                  | -1.24518\n",
       "-0.135861                 | 0.228663\n",
       "-1.0575                   | -0.655644\n",
       "0.917443                  | 1.03928\n",
       "-0.530851                 | -1.17149\n",
       "1.06403                   | 1.26035\n",
       "0.0984989                 | 1.03928\n",
       "-1.3498                   | -1.46626\n",
       "0.756814                  | 1.03928\n",
       "... (262 rows omitted)"
      ]
     },
     "execution_count": 3,
     "metadata": {},
     "output_type": "execute_result"
    }
   ],
   "source": [
    "duration_mean = np.mean(faithful.column(\"duration\"))\n",
    "duration_std = np.std(faithful.column(\"duration\"))\n",
    "wait_mean = np.mean(faithful.column(\"wait\"))\n",
    "wait_std = np.std(faithful.column(\"wait\"))\n",
    "\n",
    "faithful_standard = Table().with_columns(\n",
    "    \"duration (standard units)\", (faithful.column(\"duration\") - duration_mean) / duration_std,\n",
    "    \"wait (standard units)\", (faithful.column(\"wait\") - wait_mean) / wait_std\n",
    ")\n",
    "faithful_standard"
   ]
  },
  {
   "cell_type": "markdown",
   "metadata": {},
   "source": [
    "The next cell computes the correlation `r`"
   ]
  },
  {
   "cell_type": "code",
   "execution_count": 4,
   "metadata": {},
   "outputs": [
    {
     "data": {
      "text/plain": [
       "0.9008111683218132"
      ]
     },
     "execution_count": 4,
     "metadata": {},
     "output_type": "execute_result"
    }
   ],
   "source": [
    "r = np.mean(faithful_standard.column(0) * faithful_standard.column(1))\n",
    "r"
   ]
  },
  {
   "cell_type": "markdown",
   "metadata": {},
   "source": [
    "## 2. The regression line\n",
    "The correlation coefficient is the slope of the regression line when the data are expressed in standard units.\n",
    "\n",
    "The next cell plots the regression line in standard units:\n",
    "\n",
    "$$\\text{waiting time (standard units)} = r \\times \\text{eruption duration (standard units)}.$$"
   ]
  },
  {
   "cell_type": "code",
   "execution_count": 5,
   "metadata": {},
   "outputs": [
    {
     "data": {
      "image/png": "[encoded data removed]",
      "text/plain": [
       "<Figure size 360x360 with 1 Axes>"
      ]
     },
     "metadata": {},
     "output_type": "display_data"
    }
   ],
   "source": [
    "def plot_data_and_line(dataset, x, y, point_0, point_1):\n",
    "    \"\"\"Makes a scatter plot of the dataset, along with a line passing through two points.\"\"\"\n",
    "    dataset.scatter(x, y, label=\"data\")\n",
    "    xs, ys = zip(point_0, point_1)\n",
    "    plots.plot(xs, ys, label=\"regression line\")\n",
    "    plots.legend(bbox_to_anchor=(1.5,.8))\n",
    "\n",
    "plot_data_and_line(faithful_standard, \n",
    "                   \"duration (standard units)\", \n",
    "                   \"wait (standard units)\", \n",
    "                   [-2, -2*r], \n",
    "                   [2, 2*r])"
   ]
  },
  {
   "cell_type": "markdown",
   "metadata": {},
   "source": [
    "How would you take a point in standard units and convert it back to original units?  We'd have to \"stretch\" its horizontal position by `duration_std` and its vertical position by `wait_std`.\n",
    "\n",
    "That means the same thing would happen to the slope of the line.\n",
    "\n",
    "Stretching a line horizontally makes it less steep, so we divide the slope by the stretching factor.  Stretching a line vertically makes it more steep, so we multiply the slope by the stretching factor.\n",
    "\n",
    "** Question 2.1 **<br/>\n",
    "What is the slope of the regression line in original units?\n",
    "\n",
    "(If the \"stretching\" explanation is unintuitive, consult section [15.2](https://www.inferentialthinking.com/chapters/15/2/Regression_Line) in the textbook.)"
   ]
  },
  {
   "cell_type": "code",
   "execution_count": 71,
   "metadata": {},
   "outputs": [
    {
     "data": {
      "text/plain": [
       "0.9008111683218133"
      ]
     },
     "execution_count": 71,
     "metadata": {},
     "output_type": "execute_result"
    }
   ],
   "source": [
    "slope = np.mean(r*faithful_standard.column('wait (standard units)')/faithful_standard.column('wait (standard units)'))\n",
    "slope"
   ]
  },
  {
   "cell_type": "markdown",
   "metadata": {},
   "source": [
    "We know that the regression line passes through the point `(duration_mean, wait_mean)`.  You might recall from high-school algebra that the equation for the line is therefore:\n",
    "\n",
    "$$\\text{waiting time} - \\verb|wait_mean| = \\texttt{slope} \\times (\\text{eruption duration} - \\verb|duration_mean|)$$\n",
    "\n",
    "After rearranging that equation slightly, the intercept turns out to be:"
   ]
  },
  {
   "cell_type": "code",
   "execution_count": 72,
   "metadata": {},
   "outputs": [
    {
     "data": {
      "text/plain": [
       "67.75522486496311"
      ]
     },
     "execution_count": 72,
     "metadata": {},
     "output_type": "execute_result"
    }
   ],
   "source": [
    "intercept = slope*(-duration_mean) + wait_mean\n",
    "intercept"
   ]
  },
  {
   "cell_type": "code",
   "execution_count": 73,
   "metadata": {},
   "outputs": [
    {
     "data": {
      "text/html": [
       "\n",
       "    \n",
       "    \n",
       "        <p>All tests passed! Full grade.</p>\n",
       "    \n",
       "    "
      ],
      "text/plain": [
       "<gofer.ok.OKTestsResult at 0x7f504bb3e668>"
      ]
     },
     "execution_count": 73,
     "metadata": {},
     "output_type": "execute_result"
    }
   ],
   "source": [
    "check('tests/q2_1.py')"
   ]
  },
  {
   "cell_type": "markdown",
   "metadata": {},
   "source": [
    "## 3. Investigating the regression line\n",
    "The slope and intercept tell you exactly what the regression line looks like.  To predict the waiting time for an eruption, multiply the eruption's duration by `slope` and then add `intercept`.\n",
    "\n",
    "** Question 3.1 ** <br/>\n",
    "Compute the predicted waiting time for an eruption that lasts 2 minutes, and for an eruption that lasts 5 minutes."
   ]
  },
  {
   "cell_type": "code",
   "execution_count": 76,
   "metadata": {},
   "outputs": [
    {
     "name": "stdout",
     "output_type": "stream",
     "text": [
      "After an eruption lasting 2 minutes, we predict you'll wait 69.55684720160674 minutes until the next eruption.\n",
      "After an eruption lasting 5 minutes, we predict you'll wait 72.25928070657218 minutes until the next eruption.\n"
     ]
    }
   ],
   "source": [
    "two_minute_predicted_waiting_time = 2*slope+intercept\n",
    "five_minute_predicted_waiting_time = 5*slope+intercept\n",
    "\n",
    "# Here is a helper function to print out your predictions\n",
    "# (you don't need to modify it):\n",
    "def print_prediction(duration, predicted_waiting_time):\n",
    "    print(\"After an eruption lasting\", duration,\n",
    "          \"minutes, we predict you'll wait\", predicted_waiting_time,\n",
    "          \"minutes until the next eruption.\")\n",
    "\n",
    "print_prediction(2, two_minute_predicted_waiting_time)\n",
    "print_prediction(5, five_minute_predicted_waiting_time)"
   ]
  },
  {
   "cell_type": "code",
   "execution_count": null,
   "metadata": {},
   "outputs": [],
   "source": [
    "check('tests/q3_1.py')"
   ]
  },
  {
   "cell_type": "markdown",
   "metadata": {},
   "source": [
    "The next cell plots the line that goes between those two points, which is (a segment of) the regression line."
   ]
  },
  {
   "cell_type": "code",
   "execution_count": 77,
   "metadata": {
    "scrolled": false
   },
   "outputs": [
    {
     "data": {
      "image/png": "[encoded data removed]",
      "text/plain": [
       "<Figure size 360x360 with 1 Axes>"
      ]
     },
     "metadata": {},
     "output_type": "display_data"
    }
   ],
   "source": [
    "plot_data_and_line(faithful, \"duration\", \"wait\", \n",
    "                   [2, two_minute_predicted_waiting_time], \n",
    "                   [5, five_minute_predicted_waiting_time])"
   ]
  },
  {
   "cell_type": "markdown",
   "metadata": {},
   "source": [
    "** Question 3.2 ** <br/>\n",
    "Make predictions for the waiting time after each eruption in the `faithful` table.  (Of course, we know exactly what the waiting times were!  We are doing this so we can see how accurate our predictions are.)  Put these numbers into a column in a new table called `faithful_predictions`.  Its first row should look like this:\n",
    "\n",
    "|duration|wait|predicted wait|\n",
    "|-|-|-|\n",
    "|3.6|79|72.1011|\n",
    "\n",
    "*Hint:* Your answer can be just one line.  There is no need for a `for` loop; use array arithmetic instead."
   ]
  },
  {
   "cell_type": "code",
   "execution_count": 78,
   "metadata": {},
   "outputs": [
    {
     "data": {
      "text/html": [
       "<table border=\"1\" class=\"dataframe\">\n",
       "    <thead>\n",
       "        <tr>\n",
       "            <th>duration</th> <th>wait</th> <th>predicted wait</th>\n",
       "        </tr>\n",
       "    </thead>\n",
       "    <tbody>\n",
       "        <tr>\n",
       "            <td>3.6     </td> <td>79  </td> <td>70.9981       </td>\n",
       "        </tr>\n",
       "    </tbody>\n",
       "        <tr>\n",
       "            <td>1.8     </td> <td>54  </td> <td>69.3767       </td>\n",
       "        </tr>\n",
       "    </tbody>\n",
       "        <tr>\n",
       "            <td>3.333   </td> <td>74  </td> <td>70.7576       </td>\n",
       "        </tr>\n",
       "    </tbody>\n",
       "        <tr>\n",
       "            <td>2.283   </td> <td>62  </td> <td>69.8118       </td>\n",
       "        </tr>\n",
       "    </tbody>\n",
       "        <tr>\n",
       "            <td>4.533   </td> <td>85  </td> <td>71.8386       </td>\n",
       "        </tr>\n",
       "    </tbody>\n",
       "        <tr>\n",
       "            <td>2.883   </td> <td>55  </td> <td>70.3523       </td>\n",
       "        </tr>\n",
       "    </tbody>\n",
       "        <tr>\n",
       "            <td>4.7     </td> <td>88  </td> <td>71.989        </td>\n",
       "        </tr>\n",
       "    </tbody>\n",
       "        <tr>\n",
       "            <td>3.6     </td> <td>85  </td> <td>70.9981       </td>\n",
       "        </tr>\n",
       "    </tbody>\n",
       "        <tr>\n",
       "            <td>1.95    </td> <td>51  </td> <td>69.5118       </td>\n",
       "        </tr>\n",
       "    </tbody>\n",
       "        <tr>\n",
       "            <td>4.35    </td> <td>85  </td> <td>71.6738       </td>\n",
       "        </tr>\n",
       "    </tbody>\n",
       "</table>\n",
       "<p>... (262 rows omitted)</p>"
      ],
      "text/plain": [
       "duration | wait | predicted wait\n",
       "3.6      | 79   | 70.9981\n",
       "1.8      | 54   | 69.3767\n",
       "3.333    | 74   | 70.7576\n",
       "2.283    | 62   | 69.8118\n",
       "4.533    | 85   | 71.8386\n",
       "2.883    | 55   | 70.3523\n",
       "4.7      | 88   | 71.989\n",
       "3.6      | 85   | 70.9981\n",
       "1.95     | 51   | 69.5118\n",
       "4.35     | 85   | 71.6738\n",
       "... (262 rows omitted)"
      ]
     },
     "execution_count": 78,
     "metadata": {},
     "output_type": "execute_result"
    }
   ],
   "source": [
    "faithful_predictions = faithful.with_column('predicted wait',faithful.column(0)*slope+intercept)\n",
    "faithful_predictions"
   ]
  },
  {
   "cell_type": "code",
   "execution_count": 79,
   "metadata": {},
   "outputs": [
    {
     "data": {
      "text/html": [
       "\n",
       "    \n",
       "    \n",
       "        <p>All tests passed! Full grade.</p>\n",
       "    \n",
       "    "
      ],
      "text/plain": [
       "<gofer.ok.OKTestsResult at 0x7f504b95cb70>"
      ]
     },
     "execution_count": 79,
     "metadata": {},
     "output_type": "execute_result"
    }
   ],
   "source": [
    "check('tests/q3_2.py')"
   ]
  },
  {
   "cell_type": "markdown",
   "metadata": {},
   "source": [
    "** Question 3.3 ** <br/>\n",
    "How close were we?  We computed the *residual* for each eruption in the dataset.  The residual is the difference (not the absolute difference) between the actual waiting time and the predicted waiting time.  Add the residuals to `faithful_predictions` as a new column called `\"residual\"`, naming the resulting table `faithful_residuals`.\n",
    "\n",
    "*Hint:* Again, your code will be much simpler if you don't use a `for` loop."
   ]
  },
  {
   "cell_type": "code",
   "execution_count": 82,
   "metadata": {},
   "outputs": [
    {
     "data": {
      "text/html": [
       "<table border=\"1\" class=\"dataframe\">\n",
       "    <thead>\n",
       "        <tr>\n",
       "            <th>duration</th> <th>wait</th> <th>predicted wait</th> <th>residual</th>\n",
       "        </tr>\n",
       "    </thead>\n",
       "    <tbody>\n",
       "        <tr>\n",
       "            <td>3.6     </td> <td>79  </td> <td>70.9981       </td> <td>8.00185 </td>\n",
       "        </tr>\n",
       "    </tbody>\n",
       "        <tr>\n",
       "            <td>1.8     </td> <td>54  </td> <td>69.3767       </td> <td>-15.3767</td>\n",
       "        </tr>\n",
       "    </tbody>\n",
       "        <tr>\n",
       "            <td>3.333   </td> <td>74  </td> <td>70.7576       </td> <td>3.24237 </td>\n",
       "        </tr>\n",
       "    </tbody>\n",
       "        <tr>\n",
       "            <td>2.283   </td> <td>62  </td> <td>69.8118       </td> <td>-7.81178</td>\n",
       "        </tr>\n",
       "    </tbody>\n",
       "        <tr>\n",
       "            <td>4.533   </td> <td>85  </td> <td>71.8386       </td> <td>13.1614 </td>\n",
       "        </tr>\n",
       "    </tbody>\n",
       "        <tr>\n",
       "            <td>2.883   </td> <td>55  </td> <td>70.3523       </td> <td>-15.3523</td>\n",
       "        </tr>\n",
       "    </tbody>\n",
       "        <tr>\n",
       "            <td>4.7     </td> <td>88  </td> <td>71.989        </td> <td>16.011  </td>\n",
       "        </tr>\n",
       "    </tbody>\n",
       "        <tr>\n",
       "            <td>3.6     </td> <td>85  </td> <td>70.9981       </td> <td>14.0019 </td>\n",
       "        </tr>\n",
       "    </tbody>\n",
       "        <tr>\n",
       "            <td>1.95    </td> <td>51  </td> <td>69.5118       </td> <td>-18.5118</td>\n",
       "        </tr>\n",
       "    </tbody>\n",
       "        <tr>\n",
       "            <td>4.35    </td> <td>85  </td> <td>71.6738       </td> <td>13.3262 </td>\n",
       "        </tr>\n",
       "    </tbody>\n",
       "</table>\n",
       "<p>... (262 rows omitted)</p>"
      ],
      "text/plain": [
       "duration | wait | predicted wait | residual\n",
       "3.6      | 79   | 70.9981        | 8.00185\n",
       "1.8      | 54   | 69.3767        | -15.3767\n",
       "3.333    | 74   | 70.7576        | 3.24237\n",
       "2.283    | 62   | 69.8118        | -7.81178\n",
       "4.533    | 85   | 71.8386        | 13.1614\n",
       "2.883    | 55   | 70.3523        | -15.3523\n",
       "4.7      | 88   | 71.989         | 16.011\n",
       "3.6      | 85   | 70.9981        | 14.0019\n",
       "1.95     | 51   | 69.5118        | -18.5118\n",
       "4.35     | 85   | 71.6738        | 13.3262\n",
       "... (262 rows omitted)"
      ]
     },
     "execution_count": 82,
     "metadata": {},
     "output_type": "execute_result"
    }
   ],
   "source": [
    "residual = faithful_predictions.column(1) - faithful_predictions.column(2)\n",
    "faithful_residuals = faithful_predictions.with_column('residual',residual)\n",
    "faithful_residuals"
   ]
  },
  {
   "cell_type": "code",
   "execution_count": 83,
   "metadata": {},
   "outputs": [
    {
     "data": {
      "text/html": [
       "\n",
       "    \n",
       "    \n",
       "        <p>All tests passed! Full grade.</p>\n",
       "    \n",
       "    "
      ],
      "text/plain": [
       "<gofer.ok.OKTestsResult at 0x7f504b420e10>"
      ]
     },
     "execution_count": 83,
     "metadata": {},
     "output_type": "execute_result"
    }
   ],
   "source": [
    "check('tests/q3_3.py')"
   ]
  },
  {
   "cell_type": "markdown",
   "metadata": {},
   "source": [
    "Here is a plot of the residuals you computed.  Each point corresponds to one eruption.  It shows how much our prediction over- or under-estimated the waiting time."
   ]
  },
  {
   "cell_type": "code",
   "execution_count": 84,
   "metadata": {},
   "outputs": [
    {
     "data": {
      "image/png": "[encoded data removed]",
      "text/plain": [
       "<Figure size 360x360 with 1 Axes>"
      ]
     },
     "metadata": {},
     "output_type": "display_data"
    }
   ],
   "source": [
    "faithful_residuals.scatter(\"duration\", \"residual\", color=\"r\")"
   ]
  },
  {
   "cell_type": "markdown",
   "metadata": {},
   "source": [
    "There isn't too much of a pattern in the residuals, which confirms that it's reasonable to use linear regression for prediction.  It's true that there are two separate clouds; the eruption durations seemed to fall into two distinct clusters.  But that's just a pattern in the eruption durations, not a pattern in the relationship between eruption durations and waiting times. A larger concern is that there may be more positive than negative residuals in a particular region of the horizontal axis. For both clusters, the points are distributed fairly evenly above and below zero, which is a confirmation that the association is mostly linear."
   ]
  },
  {
   "cell_type": "markdown",
   "metadata": {},
   "source": [
    "## 4. How accurate are different predictions?\n",
    "The correlation coefficient is close to 1, implying that the observed values are tightly clustered around the regression line.  The residuals are overall small (close to 0) in comparison to the waiting times.\n",
    "\n",
    "We can see that visually by plotting the waiting times and residuals together:"
   ]
  },
  {
   "cell_type": "code",
   "execution_count": 85,
   "metadata": {},
   "outputs": [
    {
     "data": {
      "image/png": "[encoded data removed]",
      "text/plain": [
       "<Figure size 360x360 with 1 Axes>"
      ]
     },
     "metadata": {},
     "output_type": "display_data"
    }
   ],
   "source": [
    "faithful_residuals.scatter(\"duration\", \"wait\", label=\"actual waiting time\", color=\"blue\")\n",
    "plots.scatter(faithful_residuals.column(\"duration\"), faithful_residuals.column(\"residual\"), label=\"residual\", color=\"r\")\n",
    "plots.plot([2, 5], [two_minute_predicted_waiting_time, five_minute_predicted_waiting_time], label=\"regression line\")\n",
    "plots.legend(bbox_to_anchor=(1.7,.8));"
   ]
  },
  {
   "cell_type": "markdown",
   "metadata": {},
   "source": [
    "** Question 4.1 ** <br/>\n",
    "In `faithful`, no eruption lasted exactly 0, 2.5, or 60 minutes.  Using this line, what is the predicted waiting time for an eruption that lasts 0 minutes?  2.5 minutes?  An hour?"
   ]
  },
  {
   "cell_type": "code",
   "execution_count": 95,
   "metadata": {},
   "outputs": [
    {
     "name": "stdout",
     "output_type": "stream",
     "text": [
      "75.52731489846038\n",
      "-1.327564231430953\n"
     ]
    }
   ],
   "source": [
    "slope = np.mean(r*faithful_residuals.column('residual')/faithful_residuals.column('duration'))\n",
    "intercept = slope*(-duration_mean) + wait_mean\n",
    "print(intercept)\n",
    "print(slope)"
   ]
  },
  {
   "cell_type": "code",
   "execution_count": 98,
   "metadata": {},
   "outputs": [
    {
     "name": "stdout",
     "output_type": "stream",
     "text": [
      "After an eruption lasting 0 minutes, we predict you'll wait 75.52731489846038 minutes until the next eruption.\n",
      "After an eruption lasting 2.5 minutes, we predict you'll wait 72.20840431988299 minutes until the next eruption.\n",
      "After an eruption lasting 60 minutes, we predict you'll wait -4.126538987396813 minutes until the next eruption.\n"
     ]
    }
   ],
   "source": [
    "zero_minute_predicted_waiting_time = 0*slope+intercept\n",
    "two_point_five_minute_predicted_waiting_time = 2.5*slope+intercept\n",
    "hour_predicted_waiting_time = 60*slope+intercept\n",
    "\n",
    "print_prediction(0, zero_minute_predicted_waiting_time)\n",
    "print_prediction(2.5, two_point_five_minute_predicted_waiting_time)\n",
    "print_prediction(60, hour_predicted_waiting_time)"
   ]
  },
  {
   "cell_type": "code",
   "execution_count": null,
   "metadata": {},
   "outputs": [],
   "source": [
    "check('tests/q4_1.py')"
   ]
  },
  {
   "cell_type": "markdown",
   "metadata": {},
   "source": [
    "## 5. Divide and Conquer"
   ]
  },
  {
   "cell_type": "markdown",
   "metadata": {},
   "source": [
    "Let's see what happens if we treat the two clusters of observations differently. It appears from the scatter diagram that there are two clusters of points: one for durations around 2 and another for durations between 3.5 and 5. A vertical line at 3 divides the two clusters."
   ]
  },
  {
   "cell_type": "code",
   "execution_count": 99,
   "metadata": {},
   "outputs": [
    {
     "data": {
      "image/png": "[encoded data removed]",
      "text/plain": [
       "<Figure size 360x360 with 1 Axes>"
      ]
     },
     "metadata": {},
     "output_type": "display_data"
    }
   ],
   "source": [
    "faithful.scatter(\"duration\", \"wait\", label=\"actual waiting time\", color=\"blue\")\n",
    "plots.plot([3, 3], [40, 100]);"
   ]
  },
  {
   "cell_type": "markdown",
   "metadata": {},
   "source": [
    "The `standardize` function from lecture appears below, which returns a table of values in standard units."
   ]
  },
  {
   "cell_type": "code",
   "execution_count": 100,
   "metadata": {},
   "outputs": [],
   "source": [
    "def standard_units(any_numbers):\n",
    "    \"Convert any array of numbers to standard units.\"\n",
    "    return (any_numbers - np.mean(any_numbers)) / np.std(any_numbers)  \n",
    "\n",
    "def standardize(t):\n",
    "    \"\"\"Return a table in which all columns of t are converted to standard units.\"\"\"\n",
    "    t_su = Table()\n",
    "    for label in t.labels:\n",
    "        t_su = t_su.with_column(label + ' (su)', standard_units(t.column(label)))\n",
    "    return t_su"
   ]
  },
  {
   "cell_type": "markdown",
   "metadata": {},
   "source": [
    "**Question 5.1** <br/>\n",
    "Separately compute the regression coefficients *r* for all the points with a duration below 3 **and then** for all the points with a duration above 3. To do so, create a function that computes `r` from a table and pass it two different tables of points, `below_3` and `above_3`."
   ]
  },
  {
   "cell_type": "code",
   "execution_count": null,
   "metadata": {},
   "outputs": [],
   "source": [
    "def reg_coeff(t):\n",
    "    \"\"\"Return the regression coefficient for columns 0 & 1.\"\"\"\n",
    "    t_su = standardize(t)\n",
    "    ...\n",
    "\n",
    "below_3 = ...\n",
    "above_3 = ...\n",
    "below_3_r = reg_coeff(below_3)\n",
    "above_3_r = reg_coeff(above_3)\n",
    "print(\"For points below 3, r is\", below_3_r, \"; for points above 3, r is\", above_3_r)"
   ]
  },
  {
   "cell_type": "code",
   "execution_count": null,
   "metadata": {},
   "outputs": [],
   "source": [
    "check('tests/q5_1.py')"
   ]
  },
  {
   "cell_type": "markdown",
   "metadata": {},
   "source": [
    "**Question 5.2** <br/>\n",
    "Write functions `slope_of` and `intercept_of` below. \n",
    "\n",
    "When you're done, the functions `wait_below_3` and `wait_above_3` should each use a different regression line to predict a wait time for a duration. The first function should use the regression line for all points with duration below 3.2. The second function should use the regression line for all points with duration above 3.2."
   ]
  },
  {
   "cell_type": "code",
   "execution_count": null,
   "metadata": {},
   "outputs": [],
   "source": [
    "def slope_of(t, r):\n",
    "    \"\"\"Return the slope of the regression line for t in original units.\n",
    "    \n",
    "    Assume that column 0 contains x values and column 1 contains y values.\n",
    "    r is the regression coefficient for x and y.\n",
    "    \"\"\"\n",
    "    ...\n",
    "\n",
    "def intercept_of(t, r):\n",
    "    \"\"\"Return the slope of the regression line for t in original units.\"\"\"\n",
    "    s = slope_of(t, r)\n",
    "    ...\n",
    "    \n",
    "below_3_a = slope_of(below_3, below_3_r)\n",
    "below_3_b = intercept_of(below_3, below_3_r)\n",
    "above_3_a = slope_of(above_3, above_3_r)\n",
    "above_3_b = intercept_of(above_3, above_3_r)\n",
    "\n",
    "def wait_below_3(duration):\n",
    "    return below_3_a * duration + below_3_b\n",
    "\n",
    "def wait_above_3(duration):\n",
    "    return above_3_a * duration + above_3_b"
   ]
  },
  {
   "cell_type": "code",
   "execution_count": null,
   "metadata": {},
   "outputs": [],
   "source": [
    "check('tests/q5_2.py')"
   ]
  },
  {
   "cell_type": "markdown",
   "metadata": {},
   "source": [
    "The plot below shows two different regression lines, one for each cluster!"
   ]
  },
  {
   "cell_type": "code",
   "execution_count": null,
   "metadata": {},
   "outputs": [],
   "source": [
    "faithful.scatter(0, 1)\n",
    "plots.plot([1, 3], [wait_below_3(1), wait_below_3(3)])\n",
    "plots.plot([3, 6], [wait_above_3(3), wait_above_3(6)]);"
   ]
  },
  {
   "cell_type": "markdown",
   "metadata": {},
   "source": [
    "**Question 5.3** <br/>\n",
    "Write a function `predict_wait` that takes a `duration` and returns the predicted wait time using the appropriate regression line, depending on whether the duration is below 3 or greater than (or equal to) 3."
   ]
  },
  {
   "cell_type": "code",
   "execution_count": null,
   "metadata": {
    "for_assignment_type": "student"
   },
   "outputs": [],
   "source": [
    "def predict_wait(duration):\n",
    "    \"\"\"Return the wait predicted by the appropriate one of the two regression lines above.\"\"\"\n",
    "    ..."
   ]
  },
  {
   "cell_type": "code",
   "execution_count": null,
   "metadata": {},
   "outputs": [],
   "source": [
    "check('tests/q5_3.py')"
   ]
  },
  {
   "cell_type": "markdown",
   "metadata": {},
   "source": [
    "The predicted wait times for each point appear below."
   ]
  },
  {
   "cell_type": "code",
   "execution_count": null,
   "metadata": {},
   "outputs": [],
   "source": [
    "faithful.with_column('predicted', faithful.apply(predict_wait, 'duration')).scatter(0)"
   ]
  },
  {
   "cell_type": "markdown",
   "metadata": {},
   "source": [
    "**Further Exploration (ungraded)**: When drawing a line through each cluster separately, we discovered two different but similar lines. Here are some natural questions to explore, if you want to continue working with these data:\n",
    " * How much more accurate do we expect predictions to be using two lines instead of one? Can we measure this improvement using residuals?\n",
    " * Are the lines really different, or did they just come out different due to chance because we have only a small number of observations? How could we tell?\n",
    " * Could it be that the slopes of the lines are the same, but the intercepts are different? "
   ]
  },
  {
   "cell_type": "markdown",
   "metadata": {},
   "source": [
    "## Submission"
   ]
  },
  {
   "cell_type": "markdown",
   "metadata": {},
   "source": [
    "You're finished with lab 2! In order to successfully submit your assignment, follow these steps...\n",
    "- **IMPORTANT** Before you do anything, **Save and Checkpoint** from the `File` menu. Please do this first before running the cell below,\n",
    "- **run all the tests and verify that they all pass** (the next cell has a shortcut for that), \n",
    "- **Review the notebook one last time, we will be grading the final state of your notebook** If you make any changes, please **Save and Checkpoint** again."
   ]
  },
  {
   "cell_type": "code",
   "execution_count": null,
   "metadata": {},
   "outputs": [],
   "source": [
    "# For your convenience, you can run this cell to run all the tests at once!\n",
    "import glob\n",
    "from gofer.ok import grade_notebook\n",
    "if not globals().get('__GOFER_GRADER__', False):\n",
    "    display(grade_notebook('lab02.ipynb', sorted(glob.glob('tests/q*.py'))))"
   ]
  }
 ],
 "metadata": {
  "anaconda-cloud": {},
  "kernelspec": {
   "display_name": "Python 3",
   "language": "python",
   "name": "python3"
  },
  "language_info": {
   "codemirror_mode": {
    "name": "ipython",
    "version": 3
   },
   "file_extension": ".py",
   "mimetype": "text/x-python",
   "name": "python",
   "nbconvert_exporter": "python",
   "pygments_lexer": "ipython3",
   "version": "3.6.6"
  }
 },
 "nbformat": 4,
 "nbformat_minor": 1
}
